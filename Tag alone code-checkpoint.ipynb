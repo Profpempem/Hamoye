{
 "cells": [
  {
   "cell_type": "code",
   "execution_count": 2,
   "id": "7efbf816",
   "metadata": {},
   "outputs": [],
   "source": [
    "import pandas as pd\n",
    "import numpy as np\n",
    "import matplotlib.pyplot as plt"
   ]
  },
  {
   "cell_type": "code",
   "execution_count": 3,
   "id": "f26b57cf",
   "metadata": {},
   "outputs": [
    {
     "data": {
      "text/html": [
       "<div>\n",
       "<style scoped>\n",
       "    .dataframe tbody tr th:only-of-type {\n",
       "        vertical-align: middle;\n",
       "    }\n",
       "\n",
       "    .dataframe tbody tr th {\n",
       "        vertical-align: top;\n",
       "    }\n",
       "\n",
       "    .dataframe thead th {\n",
       "        text-align: right;\n",
       "    }\n",
       "</style>\n",
       "<table border=\"1\" class=\"dataframe\">\n",
       "  <thead>\n",
       "    <tr style=\"text-align: right;\">\n",
       "      <th></th>\n",
       "      <th>Area Code</th>\n",
       "      <th>Area</th>\n",
       "      <th>Item Code</th>\n",
       "      <th>Item</th>\n",
       "      <th>Element Code</th>\n",
       "      <th>Element</th>\n",
       "      <th>Unit</th>\n",
       "      <th>Y2014</th>\n",
       "      <th>Y2015</th>\n",
       "      <th>Y2016</th>\n",
       "      <th>Y2017</th>\n",
       "      <th>Y2018</th>\n",
       "    </tr>\n",
       "  </thead>\n",
       "  <tbody>\n",
       "    <tr>\n",
       "      <th>0</th>\n",
       "      <td>4</td>\n",
       "      <td>Algeria</td>\n",
       "      <td>2501</td>\n",
       "      <td>Population</td>\n",
       "      <td>511</td>\n",
       "      <td>Total Population - Both sexes</td>\n",
       "      <td>1000 persons</td>\n",
       "      <td>38924.00</td>\n",
       "      <td>39728.00</td>\n",
       "      <td>40551.00</td>\n",
       "      <td>41389.00</td>\n",
       "      <td>42228.00</td>\n",
       "    </tr>\n",
       "    <tr>\n",
       "      <th>1</th>\n",
       "      <td>4</td>\n",
       "      <td>Algeria</td>\n",
       "      <td>2501</td>\n",
       "      <td>Population</td>\n",
       "      <td>5301</td>\n",
       "      <td>Domestic supply quantity</td>\n",
       "      <td>1000 tonnes</td>\n",
       "      <td>0.00</td>\n",
       "      <td>0.00</td>\n",
       "      <td>0.00</td>\n",
       "      <td>0.00</td>\n",
       "      <td>0.00</td>\n",
       "    </tr>\n",
       "    <tr>\n",
       "      <th>2</th>\n",
       "      <td>4</td>\n",
       "      <td>Algeria</td>\n",
       "      <td>2901</td>\n",
       "      <td>Grand Total</td>\n",
       "      <td>664</td>\n",
       "      <td>Food supply (kcal/capita/day)</td>\n",
       "      <td>kcal/capita/day</td>\n",
       "      <td>3377.00</td>\n",
       "      <td>3379.00</td>\n",
       "      <td>3372.00</td>\n",
       "      <td>3341.00</td>\n",
       "      <td>3322.00</td>\n",
       "    </tr>\n",
       "    <tr>\n",
       "      <th>3</th>\n",
       "      <td>4</td>\n",
       "      <td>Algeria</td>\n",
       "      <td>2901</td>\n",
       "      <td>Grand Total</td>\n",
       "      <td>674</td>\n",
       "      <td>Protein supply quantity (g/capita/day)</td>\n",
       "      <td>g/capita/day</td>\n",
       "      <td>94.90</td>\n",
       "      <td>94.35</td>\n",
       "      <td>94.72</td>\n",
       "      <td>92.82</td>\n",
       "      <td>91.83</td>\n",
       "    </tr>\n",
       "    <tr>\n",
       "      <th>4</th>\n",
       "      <td>4</td>\n",
       "      <td>Algeria</td>\n",
       "      <td>2901</td>\n",
       "      <td>Grand Total</td>\n",
       "      <td>684</td>\n",
       "      <td>Fat supply quantity (g/capita/day)</td>\n",
       "      <td>g/capita/day</td>\n",
       "      <td>80.06</td>\n",
       "      <td>79.36</td>\n",
       "      <td>77.40</td>\n",
       "      <td>80.19</td>\n",
       "      <td>77.28</td>\n",
       "    </tr>\n",
       "  </tbody>\n",
       "</table>\n",
       "</div>"
      ],
      "text/plain": [
       "   Area Code     Area  Item Code         Item  Element Code  \\\n",
       "0          4  Algeria       2501   Population           511   \n",
       "1          4  Algeria       2501   Population          5301   \n",
       "2          4  Algeria       2901  Grand Total           664   \n",
       "3          4  Algeria       2901  Grand Total           674   \n",
       "4          4  Algeria       2901  Grand Total           684   \n",
       "\n",
       "                                  Element             Unit     Y2014  \\\n",
       "0           Total Population - Both sexes     1000 persons  38924.00   \n",
       "1                Domestic supply quantity      1000 tonnes      0.00   \n",
       "2           Food supply (kcal/capita/day)  kcal/capita/day   3377.00   \n",
       "3  Protein supply quantity (g/capita/day)     g/capita/day     94.90   \n",
       "4      Fat supply quantity (g/capita/day)     g/capita/day     80.06   \n",
       "\n",
       "      Y2015     Y2016     Y2017     Y2018  \n",
       "0  39728.00  40551.00  41389.00  42228.00  \n",
       "1      0.00      0.00      0.00      0.00  \n",
       "2   3379.00   3372.00   3341.00   3322.00  \n",
       "3     94.35     94.72     92.82     91.83  \n",
       "4     79.36     77.40     80.19     77.28  "
      ]
     },
     "execution_count": 3,
     "metadata": {},
     "output_type": "execute_result"
    }
   ],
   "source": [
    "df = pd.read_csv('FoodBa.csv', encoding='latin1')\n",
    "df.head()"
   ]
  },
  {
   "cell_type": "code",
   "execution_count": 4,
   "id": "7197333a",
   "metadata": {},
   "outputs": [
    {
     "data": {
      "text/html": [
       "<div>\n",
       "<style scoped>\n",
       "    .dataframe tbody tr th:only-of-type {\n",
       "        vertical-align: middle;\n",
       "    }\n",
       "\n",
       "    .dataframe tbody tr th {\n",
       "        vertical-align: top;\n",
       "    }\n",
       "\n",
       "    .dataframe thead th {\n",
       "        text-align: right;\n",
       "    }\n",
       "</style>\n",
       "<table border=\"1\" class=\"dataframe\">\n",
       "  <thead>\n",
       "    <tr style=\"text-align: right;\">\n",
       "      <th></th>\n",
       "      <th>Area Code</th>\n",
       "      <th>Area</th>\n",
       "      <th>Item Code</th>\n",
       "      <th>Item</th>\n",
       "      <th>Element Code</th>\n",
       "      <th>Element</th>\n",
       "      <th>Unit</th>\n",
       "      <th>Y2014</th>\n",
       "      <th>Y2015</th>\n",
       "      <th>Y2016</th>\n",
       "      <th>Y2017</th>\n",
       "      <th>Y2018</th>\n",
       "    </tr>\n",
       "  </thead>\n",
       "  <tbody>\n",
       "    <tr>\n",
       "      <th>60938</th>\n",
       "      <td>181</td>\n",
       "      <td>Zimbabwe</td>\n",
       "      <td>2899</td>\n",
       "      <td>Miscellaneous</td>\n",
       "      <td>5142</td>\n",
       "      <td>Food</td>\n",
       "      <td>1000 tonnes</td>\n",
       "      <td>42.00</td>\n",
       "      <td>46.00</td>\n",
       "      <td>33.00</td>\n",
       "      <td>19.00</td>\n",
       "      <td>16.00</td>\n",
       "    </tr>\n",
       "    <tr>\n",
       "      <th>60939</th>\n",
       "      <td>181</td>\n",
       "      <td>Zimbabwe</td>\n",
       "      <td>2899</td>\n",
       "      <td>Miscellaneous</td>\n",
       "      <td>645</td>\n",
       "      <td>Food supply quantity (kg/capita/yr)</td>\n",
       "      <td>kg</td>\n",
       "      <td>3.06</td>\n",
       "      <td>3.33</td>\n",
       "      <td>2.35</td>\n",
       "      <td>1.33</td>\n",
       "      <td>1.08</td>\n",
       "    </tr>\n",
       "    <tr>\n",
       "      <th>60940</th>\n",
       "      <td>181</td>\n",
       "      <td>Zimbabwe</td>\n",
       "      <td>2899</td>\n",
       "      <td>Miscellaneous</td>\n",
       "      <td>664</td>\n",
       "      <td>Food supply (kcal/capita/day)</td>\n",
       "      <td>kcal/capita/day</td>\n",
       "      <td>3.00</td>\n",
       "      <td>4.00</td>\n",
       "      <td>3.00</td>\n",
       "      <td>1.00</td>\n",
       "      <td>1.00</td>\n",
       "    </tr>\n",
       "    <tr>\n",
       "      <th>60941</th>\n",
       "      <td>181</td>\n",
       "      <td>Zimbabwe</td>\n",
       "      <td>2899</td>\n",
       "      <td>Miscellaneous</td>\n",
       "      <td>674</td>\n",
       "      <td>Protein supply quantity (g/capita/day)</td>\n",
       "      <td>g/capita/day</td>\n",
       "      <td>0.10</td>\n",
       "      <td>0.11</td>\n",
       "      <td>0.08</td>\n",
       "      <td>0.04</td>\n",
       "      <td>0.04</td>\n",
       "    </tr>\n",
       "    <tr>\n",
       "      <th>60942</th>\n",
       "      <td>181</td>\n",
       "      <td>Zimbabwe</td>\n",
       "      <td>2899</td>\n",
       "      <td>Miscellaneous</td>\n",
       "      <td>684</td>\n",
       "      <td>Fat supply quantity (g/capita/day)</td>\n",
       "      <td>g/capita/day</td>\n",
       "      <td>0.04</td>\n",
       "      <td>0.05</td>\n",
       "      <td>0.03</td>\n",
       "      <td>0.02</td>\n",
       "      <td>0.01</td>\n",
       "    </tr>\n",
       "  </tbody>\n",
       "</table>\n",
       "</div>"
      ],
      "text/plain": [
       "       Area Code      Area  Item Code           Item  Element Code  \\\n",
       "60938        181  Zimbabwe       2899  Miscellaneous          5142   \n",
       "60939        181  Zimbabwe       2899  Miscellaneous           645   \n",
       "60940        181  Zimbabwe       2899  Miscellaneous           664   \n",
       "60941        181  Zimbabwe       2899  Miscellaneous           674   \n",
       "60942        181  Zimbabwe       2899  Miscellaneous           684   \n",
       "\n",
       "                                      Element             Unit  Y2014  Y2015  \\\n",
       "60938                                    Food      1000 tonnes  42.00  46.00   \n",
       "60939     Food supply quantity (kg/capita/yr)               kg   3.06   3.33   \n",
       "60940           Food supply (kcal/capita/day)  kcal/capita/day   3.00   4.00   \n",
       "60941  Protein supply quantity (g/capita/day)     g/capita/day   0.10   0.11   \n",
       "60942      Fat supply quantity (g/capita/day)     g/capita/day   0.04   0.05   \n",
       "\n",
       "       Y2016  Y2017  Y2018  \n",
       "60938  33.00  19.00  16.00  \n",
       "60939   2.35   1.33   1.08  \n",
       "60940   3.00   1.00   1.00  \n",
       "60941   0.08   0.04   0.04  \n",
       "60942   0.03   0.02   0.01  "
      ]
     },
     "execution_count": 4,
     "metadata": {},
     "output_type": "execute_result"
    }
   ],
   "source": [
    "df.tail()"
   ]
  },
  {
   "cell_type": "code",
   "execution_count": 5,
   "id": "79a7eaa0",
   "metadata": {},
   "outputs": [
    {
     "data": {
      "text/plain": [
       "(60943, 12)"
      ]
     },
     "execution_count": 5,
     "metadata": {},
     "output_type": "execute_result"
    }
   ],
   "source": [
    "df.shape"
   ]
  },
  {
   "cell_type": "code",
   "execution_count": 6,
   "id": "0f7849ca",
   "metadata": {},
   "outputs": [
    {
     "data": {
      "text/plain": [
       "Area Code         int64\n",
       "Area             object\n",
       "Item Code         int64\n",
       "Item             object\n",
       "Element Code      int64\n",
       "Element          object\n",
       "Unit             object\n",
       "Y2014           float64\n",
       "Y2015           float64\n",
       "Y2016           float64\n",
       "Y2017           float64\n",
       "Y2018           float64\n",
       "dtype: object"
      ]
     },
     "execution_count": 6,
     "metadata": {},
     "output_type": "execute_result"
    }
   ],
   "source": [
    "df.dtypes"
   ]
  },
  {
   "cell_type": "code",
   "execution_count": 7,
   "id": "f1786820",
   "metadata": {},
   "outputs": [
    {
     "data": {
      "text/html": [
       "<div>\n",
       "<style scoped>\n",
       "    .dataframe tbody tr th:only-of-type {\n",
       "        vertical-align: middle;\n",
       "    }\n",
       "\n",
       "    .dataframe tbody tr th {\n",
       "        vertical-align: top;\n",
       "    }\n",
       "\n",
       "    .dataframe thead th {\n",
       "        text-align: right;\n",
       "    }\n",
       "</style>\n",
       "<table border=\"1\" class=\"dataframe\">\n",
       "  <thead>\n",
       "    <tr style=\"text-align: right;\">\n",
       "      <th></th>\n",
       "      <th>Area Code</th>\n",
       "      <th>Item Code</th>\n",
       "      <th>Element Code</th>\n",
       "      <th>Y2014</th>\n",
       "      <th>Y2015</th>\n",
       "      <th>Y2016</th>\n",
       "      <th>Y2017</th>\n",
       "      <th>Y2018</th>\n",
       "    </tr>\n",
       "  </thead>\n",
       "  <tbody>\n",
       "    <tr>\n",
       "      <th>count</th>\n",
       "      <td>60943.000000</td>\n",
       "      <td>60943.000000</td>\n",
       "      <td>60943.000000</td>\n",
       "      <td>59354.000000</td>\n",
       "      <td>59395.000000</td>\n",
       "      <td>59408.000000</td>\n",
       "      <td>59437.000000</td>\n",
       "      <td>59507.000000</td>\n",
       "    </tr>\n",
       "    <tr>\n",
       "      <th>mean</th>\n",
       "      <td>134.265576</td>\n",
       "      <td>2687.176706</td>\n",
       "      <td>3814.856456</td>\n",
       "      <td>134.196282</td>\n",
       "      <td>135.235966</td>\n",
       "      <td>136.555222</td>\n",
       "      <td>140.917765</td>\n",
       "      <td>143.758381</td>\n",
       "    </tr>\n",
       "    <tr>\n",
       "      <th>std</th>\n",
       "      <td>72.605709</td>\n",
       "      <td>146.055739</td>\n",
       "      <td>2212.007033</td>\n",
       "      <td>1567.663696</td>\n",
       "      <td>1603.403984</td>\n",
       "      <td>1640.007194</td>\n",
       "      <td>1671.862359</td>\n",
       "      <td>1710.782658</td>\n",
       "    </tr>\n",
       "    <tr>\n",
       "      <th>min</th>\n",
       "      <td>4.000000</td>\n",
       "      <td>2501.000000</td>\n",
       "      <td>511.000000</td>\n",
       "      <td>-1796.000000</td>\n",
       "      <td>-3161.000000</td>\n",
       "      <td>-3225.000000</td>\n",
       "      <td>-1582.000000</td>\n",
       "      <td>-3396.000000</td>\n",
       "    </tr>\n",
       "    <tr>\n",
       "      <th>25%</th>\n",
       "      <td>74.000000</td>\n",
       "      <td>2562.000000</td>\n",
       "      <td>684.000000</td>\n",
       "      <td>0.000000</td>\n",
       "      <td>0.000000</td>\n",
       "      <td>0.000000</td>\n",
       "      <td>0.000000</td>\n",
       "      <td>0.000000</td>\n",
       "    </tr>\n",
       "    <tr>\n",
       "      <th>50%</th>\n",
       "      <td>136.000000</td>\n",
       "      <td>2630.000000</td>\n",
       "      <td>5142.000000</td>\n",
       "      <td>0.090000</td>\n",
       "      <td>0.080000</td>\n",
       "      <td>0.080000</td>\n",
       "      <td>0.100000</td>\n",
       "      <td>0.070000</td>\n",
       "    </tr>\n",
       "    <tr>\n",
       "      <th>75%</th>\n",
       "      <td>195.000000</td>\n",
       "      <td>2775.000000</td>\n",
       "      <td>5511.000000</td>\n",
       "      <td>8.340000</td>\n",
       "      <td>8.460000</td>\n",
       "      <td>8.430000</td>\n",
       "      <td>9.000000</td>\n",
       "      <td>9.000000</td>\n",
       "    </tr>\n",
       "    <tr>\n",
       "      <th>max</th>\n",
       "      <td>276.000000</td>\n",
       "      <td>2961.000000</td>\n",
       "      <td>5911.000000</td>\n",
       "      <td>176405.000000</td>\n",
       "      <td>181137.000000</td>\n",
       "      <td>185960.000000</td>\n",
       "      <td>190873.000000</td>\n",
       "      <td>195875.000000</td>\n",
       "    </tr>\n",
       "  </tbody>\n",
       "</table>\n",
       "</div>"
      ],
      "text/plain": [
       "          Area Code     Item Code  Element Code          Y2014          Y2015  \\\n",
       "count  60943.000000  60943.000000  60943.000000   59354.000000   59395.000000   \n",
       "mean     134.265576   2687.176706   3814.856456     134.196282     135.235966   \n",
       "std       72.605709    146.055739   2212.007033    1567.663696    1603.403984   \n",
       "min        4.000000   2501.000000    511.000000   -1796.000000   -3161.000000   \n",
       "25%       74.000000   2562.000000    684.000000       0.000000       0.000000   \n",
       "50%      136.000000   2630.000000   5142.000000       0.090000       0.080000   \n",
       "75%      195.000000   2775.000000   5511.000000       8.340000       8.460000   \n",
       "max      276.000000   2961.000000   5911.000000  176405.000000  181137.000000   \n",
       "\n",
       "               Y2016          Y2017          Y2018  \n",
       "count   59408.000000   59437.000000   59507.000000  \n",
       "mean      136.555222     140.917765     143.758381  \n",
       "std      1640.007194    1671.862359    1710.782658  \n",
       "min     -3225.000000   -1582.000000   -3396.000000  \n",
       "25%         0.000000       0.000000       0.000000  \n",
       "50%         0.080000       0.100000       0.070000  \n",
       "75%         8.430000       9.000000       9.000000  \n",
       "max    185960.000000  190873.000000  195875.000000  "
      ]
     },
     "execution_count": 7,
     "metadata": {},
     "output_type": "execute_result"
    }
   ],
   "source": [
    "df.describe()"
   ]
  },
  {
   "cell_type": "code",
   "execution_count": 8,
   "id": "ea980c0e",
   "metadata": {},
   "outputs": [
    {
     "name": "stdout",
     "output_type": "stream",
     "text": [
      "Number of duplicate rows: (0, 12)\n"
     ]
    }
   ],
   "source": [
    "duplicate_rows_df= df[df.duplicated()]\n",
    "print(\"Number of duplicate rows:\",duplicate_rows_df.shape)"
   ]
  },
  {
   "cell_type": "code",
   "execution_count": 9,
   "id": "7a849813",
   "metadata": {},
   "outputs": [
    {
     "data": {
      "text/plain": [
       "Area Code       60943\n",
       "Area            60943\n",
       "Item Code       60943\n",
       "Item            60943\n",
       "Element Code    60943\n",
       "Element         60943\n",
       "Unit            60943\n",
       "Y2014           59354\n",
       "Y2015           59395\n",
       "Y2016           59408\n",
       "Y2017           59437\n",
       "Y2018           59507\n",
       "dtype: int64"
      ]
     },
     "execution_count": 9,
     "metadata": {},
     "output_type": "execute_result"
    }
   ],
   "source": [
    "df.count()"
   ]
  },
  {
   "cell_type": "code",
   "execution_count": 11,
   "id": "e6519b23",
   "metadata": {},
   "outputs": [
    {
     "name": "stdout",
     "output_type": "stream",
     "text": [
      "Area Code          0\n",
      "Area               0\n",
      "Item Code          0\n",
      "Item               0\n",
      "Element Code       0\n",
      "Element            0\n",
      "Unit               0\n",
      "Y2014           1589\n",
      "Y2015           1548\n",
      "Y2016           1535\n",
      "Y2017           1506\n",
      "Y2018           1436\n",
      "dtype: int64\n"
     ]
    }
   ],
   "source": [
    "print(df.isnull().sum())"
   ]
  },
  {
   "cell_type": "markdown",
   "id": "00d32ae1",
   "metadata": {},
   "source": [
    "### Q1 Which year had the least correlation with ‘Element Code?"
   ]
  },
  {
   "cell_type": "code",
   "execution_count": 34,
   "id": "d493675b",
   "metadata": {},
   "outputs": [
    {
     "name": "stdout",
     "output_type": "stream",
     "text": [
      "Y2014           0.024457\n",
      "Y2015           0.023889\n",
      "Y2016           0.023444\n",
      "Y2017           0.024254\n",
      "Y2018           0.024279\n",
      "Element Code    1.000000\n",
      "Name: Element Code, dtype: float64\n",
      "Year with the least correlation: Y2016\n",
      "Correlation score: 0.02344399758496104\n"
     ]
    }
   ],
   "source": [
    "subset = df[['Y2014', 'Y2015', 'Y2016', 'Y2017', 'Y2018', 'Element Code']]\n",
    "correlation_scores = subset.corr()['Element Code']\n",
    "\n",
    "least_correlated_year = correlation_scores.idxmin()\n",
    "min_correlation_score = correlation_scores.min()\n",
    "\n",
    "print(correlation_scores)\n",
    "\n",
    "print(\"Year with the least correlation:\", least_correlated_year)\n",
    "print(\"Correlation score:\", min_correlation_score)"
   ]
  },
  {
   "cell_type": "markdown",
   "id": "e0e5c05c",
   "metadata": {},
   "source": [
    "### Q2. Perform a groupby operation on ‘Element’.  What year has the highest sum of Stock Variation?"
   ]
  },
  {
   "cell_type": "code",
   "execution_count": 17,
   "id": "18bd2f2d",
   "metadata": {},
   "outputs": [
    {
     "name": "stdout",
     "output_type": "stream",
     "text": [
      "               Element      Area  Y2014   Y2015  Y2016  Y2017   Y2018\n",
      "13     Stock Variation   Algeria  684.0  1663.0  905.0  705.0  2226.0\n",
      "29     Stock Variation   Algeria  487.0  1401.0  731.0  546.0  1927.0\n",
      "45     Stock Variation   Algeria    8.0    -2.0   -4.0   17.0    37.0\n",
      "60     Stock Variation   Algeria   42.0    82.0   55.0   16.0   134.0\n",
      "75     Stock Variation   Algeria  146.0   177.0  122.0  127.0   124.0\n",
      "...                ...       ...    ...     ...    ...    ...     ...\n",
      "60842  Stock Variation  Zimbabwe    0.0     0.0    0.0    0.0     0.0\n",
      "60853  Stock Variation  Zimbabwe    0.0     0.0    0.0    0.0     0.0\n",
      "60914  Stock Variation  Zimbabwe    0.0     0.0    0.0   -4.0     0.0\n",
      "60924  Stock Variation  Zimbabwe    0.0     0.0    0.0    0.0     0.0\n",
      "60934  Stock Variation  Zimbabwe    0.0     0.0    0.0   -4.0     0.0\n",
      "\n",
      "[4232 rows x 7 columns]\n"
     ]
    }
   ],
   "source": [
    "stock_variation_data = df[df['Element'] == 'Stock Variation']\n",
    "\n",
    "columns_to_display = ['Element', 'Area', 'Y2014', 'Y2015', 'Y2016', 'Y2017', 'Y2018']\n",
    "\n",
    "print(stock_variation_data[columns_to_display])"
   ]
  },
  {
   "cell_type": "code",
   "execution_count": 18,
   "id": "2fa97e3e",
   "metadata": {},
   "outputs": [
    {
     "name": "stdout",
     "output_type": "stream",
     "text": [
      "Yearly sum of Stock Variation:\n",
      "Y2014    58749.83\n",
      "Y2015    34910.99\n",
      "Y2016    33140.12\n",
      "Y2017    54316.91\n",
      "Y2018    20577.91\n",
      "dtype: float64\n",
      "Year with the highest sum of Stock Variation: Y2014\n"
     ]
    }
   ],
   "source": [
    "stock_variation_data = df[df['Element'] == 'Stock Variation']\n",
    "\n",
    "yearly_sum = stock_variation_data[['Y2014', 'Y2015', 'Y2016', 'Y2017', 'Y2018']].sum()\n",
    "\n",
    "max_stock_variation_year = yearly_sum.idxmax()\n",
    "\n",
    "print(\"Yearly sum of Stock Variation:\")\n",
    "print(yearly_sum)\n",
    "print(\"Year with the highest sum of Stock Variation:\", max_stock_variation_year)"
   ]
  },
  {
   "cell_type": "markdown",
   "id": "96428ddb",
   "metadata": {},
   "source": [
    "### Q3 Select columns ‘Y2017’ and ‘Area’, Perform a groupby operation on ‘Area’.  Which of these Areas had the 7th lowest sum in 2017?"
   ]
  },
  {
   "cell_type": "code",
   "execution_count": 22,
   "id": "bedeecec",
   "metadata": {},
   "outputs": [
    {
     "name": "stdout",
     "output_type": "stream",
     "text": [
      "Table of Sums for Each Area in 2017:\n",
      "                           Area       Y2017\n",
      "0                Sudan (former)        0.00\n",
      "1                  Ethiopia PDR        0.00\n",
      "2                       Comoros       59.84\n",
      "3                    Seychelles      442.34\n",
      "4         Sao Tome and Principe    12662.63\n",
      "5                    Cabo Verde    14650.74\n",
      "6                 Guinea-Bissau    19102.77\n",
      "7                       Lesotho    21267.96\n",
      "8                      Botswana    22101.30\n",
      "9                      Djibouti    22729.91\n",
      "10                       Gambia    23154.18\n",
      "11                        Gabon    27979.64\n",
      "12                      Liberia    29342.20\n",
      "13                      Namibia    29874.89\n",
      "14     Central African Republic    29937.00\n",
      "15                        Congo    41181.68\n",
      "16                         Togo    49841.88\n",
      "17                    Mauritius    51114.83\n",
      "18                     Eswatini    54343.33\n",
      "19                 Sierra Leone    55311.33\n",
      "20                         Chad    71594.68\n",
      "21                       Rwanda    73663.69\n",
      "22                     Zimbabwe    75919.34\n",
      "23                      Senegal    95681.15\n",
      "24                       Guinea    98138.87\n",
      "25                 Burkina Faso   101855.07\n",
      "26                       Zambia   103223.77\n",
      "27                      Tunisia   124167.20\n",
      "28                        Benin   124771.22\n",
      "29                        Niger   126707.58\n",
      "30                   Madagascar   131197.73\n",
      "31                         Mali   149928.33\n",
      "32                   Mauritania   156665.46\n",
      "33                   Mozambique   161407.98\n",
      "34                       Malawi   181098.71\n",
      "35                       Uganda   213950.38\n",
      "36                Côte d'Ivoire   224599.01\n",
      "37                       Angola   229159.57\n",
      "38                     Cameroon   232030.43\n",
      "39                        Sudan   239931.92\n",
      "40                        Kenya   264660.66\n",
      "41  United Republic of Tanzania   322616.85\n",
      "42                      Algeria   325644.27\n",
      "43                        Ghana   337599.06\n",
      "44                      Morocco   388495.36\n",
      "45                     Ethiopia   448683.76\n",
      "46                 South Africa   517590.54\n",
      "47                        Egypt   866379.92\n",
      "48                      Nigeria  1483268.23\n",
      "\n",
      "Area with the 7th lowest sum in 2017: Guinea-Bissau (Sum: 19102.77 )\n"
     ]
    }
   ],
   "source": [
    "grouped_data = selected_data.groupby('Area')['Y2017'].sum().reset_index()\n",
    "\n",
    "sorted_data = grouped_data.sort_values(by='Y2017')\n",
    "\n",
    "sorted_data.reset_index(drop=True, inplace=True)\n",
    "\n",
    "print(\"Table of Sums for Each Area in 2017:\")\n",
    "print(sorted_data)\n",
    "\n",
    "seventh_lowest_area = sorted_data.iloc[6]['Area']\n",
    "seventh_lowest_sum = sorted_data.iloc[6]['Y2017']\n",
    "print(\"\\nArea with the 7th lowest sum in 2017:\", seventh_lowest_area, \"(Sum:\", seventh_lowest_sum, \")\")\n"
   ]
  },
  {
   "cell_type": "markdown",
   "id": "d172f603",
   "metadata": {},
   "source": [
    "### Q4 What is the mean and standard deviation across the whole dataset for the year 2017 to 2 decimal places?"
   ]
  },
  {
   "cell_type": "code",
   "execution_count": 24,
   "id": "aa440210",
   "metadata": {},
   "outputs": [
    {
     "data": {
      "text/html": [
       "<div>\n",
       "<style scoped>\n",
       "    .dataframe tbody tr th:only-of-type {\n",
       "        vertical-align: middle;\n",
       "    }\n",
       "\n",
       "    .dataframe tbody tr th {\n",
       "        vertical-align: top;\n",
       "    }\n",
       "\n",
       "    .dataframe thead th {\n",
       "        text-align: right;\n",
       "    }\n",
       "</style>\n",
       "<table border=\"1\" class=\"dataframe\">\n",
       "  <thead>\n",
       "    <tr style=\"text-align: right;\">\n",
       "      <th></th>\n",
       "      <th>Area Code</th>\n",
       "      <th>Item Code</th>\n",
       "      <th>Element Code</th>\n",
       "      <th>Y2014</th>\n",
       "      <th>Y2015</th>\n",
       "      <th>Y2016</th>\n",
       "      <th>Y2017</th>\n",
       "      <th>Y2018</th>\n",
       "    </tr>\n",
       "  </thead>\n",
       "  <tbody>\n",
       "    <tr>\n",
       "      <th>count</th>\n",
       "      <td>60943.000000</td>\n",
       "      <td>60943.000000</td>\n",
       "      <td>60943.000000</td>\n",
       "      <td>59354.000000</td>\n",
       "      <td>59395.000000</td>\n",
       "      <td>59408.000000</td>\n",
       "      <td>59437.000000</td>\n",
       "      <td>59507.000000</td>\n",
       "    </tr>\n",
       "    <tr>\n",
       "      <th>mean</th>\n",
       "      <td>134.265576</td>\n",
       "      <td>2687.176706</td>\n",
       "      <td>3814.856456</td>\n",
       "      <td>134.196282</td>\n",
       "      <td>135.235966</td>\n",
       "      <td>136.555222</td>\n",
       "      <td>140.917765</td>\n",
       "      <td>143.758381</td>\n",
       "    </tr>\n",
       "    <tr>\n",
       "      <th>std</th>\n",
       "      <td>72.605709</td>\n",
       "      <td>146.055739</td>\n",
       "      <td>2212.007033</td>\n",
       "      <td>1567.663696</td>\n",
       "      <td>1603.403984</td>\n",
       "      <td>1640.007194</td>\n",
       "      <td>1671.862359</td>\n",
       "      <td>1710.782658</td>\n",
       "    </tr>\n",
       "    <tr>\n",
       "      <th>min</th>\n",
       "      <td>4.000000</td>\n",
       "      <td>2501.000000</td>\n",
       "      <td>511.000000</td>\n",
       "      <td>-1796.000000</td>\n",
       "      <td>-3161.000000</td>\n",
       "      <td>-3225.000000</td>\n",
       "      <td>-1582.000000</td>\n",
       "      <td>-3396.000000</td>\n",
       "    </tr>\n",
       "    <tr>\n",
       "      <th>25%</th>\n",
       "      <td>74.000000</td>\n",
       "      <td>2562.000000</td>\n",
       "      <td>684.000000</td>\n",
       "      <td>0.000000</td>\n",
       "      <td>0.000000</td>\n",
       "      <td>0.000000</td>\n",
       "      <td>0.000000</td>\n",
       "      <td>0.000000</td>\n",
       "    </tr>\n",
       "    <tr>\n",
       "      <th>50%</th>\n",
       "      <td>136.000000</td>\n",
       "      <td>2630.000000</td>\n",
       "      <td>5142.000000</td>\n",
       "      <td>0.090000</td>\n",
       "      <td>0.080000</td>\n",
       "      <td>0.080000</td>\n",
       "      <td>0.100000</td>\n",
       "      <td>0.070000</td>\n",
       "    </tr>\n",
       "    <tr>\n",
       "      <th>75%</th>\n",
       "      <td>195.000000</td>\n",
       "      <td>2775.000000</td>\n",
       "      <td>5511.000000</td>\n",
       "      <td>8.340000</td>\n",
       "      <td>8.460000</td>\n",
       "      <td>8.430000</td>\n",
       "      <td>9.000000</td>\n",
       "      <td>9.000000</td>\n",
       "    </tr>\n",
       "    <tr>\n",
       "      <th>max</th>\n",
       "      <td>276.000000</td>\n",
       "      <td>2961.000000</td>\n",
       "      <td>5911.000000</td>\n",
       "      <td>176405.000000</td>\n",
       "      <td>181137.000000</td>\n",
       "      <td>185960.000000</td>\n",
       "      <td>190873.000000</td>\n",
       "      <td>195875.000000</td>\n",
       "    </tr>\n",
       "  </tbody>\n",
       "</table>\n",
       "</div>"
      ],
      "text/plain": [
       "          Area Code     Item Code  Element Code          Y2014          Y2015  \\\n",
       "count  60943.000000  60943.000000  60943.000000   59354.000000   59395.000000   \n",
       "mean     134.265576   2687.176706   3814.856456     134.196282     135.235966   \n",
       "std       72.605709    146.055739   2212.007033    1567.663696    1603.403984   \n",
       "min        4.000000   2501.000000    511.000000   -1796.000000   -3161.000000   \n",
       "25%       74.000000   2562.000000    684.000000       0.000000       0.000000   \n",
       "50%      136.000000   2630.000000   5142.000000       0.090000       0.080000   \n",
       "75%      195.000000   2775.000000   5511.000000       8.340000       8.460000   \n",
       "max      276.000000   2961.000000   5911.000000  176405.000000  181137.000000   \n",
       "\n",
       "               Y2016          Y2017          Y2018  \n",
       "count   59408.000000   59437.000000   59507.000000  \n",
       "mean      136.555222     140.917765     143.758381  \n",
       "std      1640.007194    1671.862359    1710.782658  \n",
       "min     -3225.000000   -1582.000000   -3396.000000  \n",
       "25%         0.000000       0.000000       0.000000  \n",
       "50%         0.080000       0.100000       0.070000  \n",
       "75%         8.430000       9.000000       9.000000  \n",
       "max    185960.000000  190873.000000  195875.000000  "
      ]
     },
     "execution_count": 24,
     "metadata": {},
     "output_type": "execute_result"
    }
   ],
   "source": [
    "#we can check it from df.describe()\n",
    "df.describe()"
   ]
  },
  {
   "cell_type": "markdown",
   "id": "58d7efb8",
   "metadata": {},
   "source": [
    "### OR"
   ]
  },
  {
   "cell_type": "code",
   "execution_count": 25,
   "id": "b8531bbc",
   "metadata": {},
   "outputs": [
    {
     "name": "stdout",
     "output_type": "stream",
     "text": [
      "Mean for the year 2017: 140.92\n",
      "Standard deviation for the year 2017: 1671.86\n"
     ]
    }
   ],
   "source": [
    "year_2017_data = df['Y2017']\n",
    "\n",
    "mean_2017 = year_2017_data.mean()\n",
    "std_dev_2017 = year_2017_data.std()\n",
    "\n",
    "print(\"Mean for the year 2017:\", round(mean_2017, 2))\n",
    "print(\"Standard deviation for the year 2017:\", round(std_dev_2017, 2))"
   ]
  },
  {
   "cell_type": "markdown",
   "id": "35babba4",
   "metadata": {},
   "source": [
    "### Q5 How would you check for the number of rows and columns in a pandas DataFrame named df?"
   ]
  },
  {
   "cell_type": "code",
   "execution_count": 26,
   "id": "5f15170a",
   "metadata": {},
   "outputs": [
    {
     "data": {
      "text/plain": [
       "(60943, 12)"
      ]
     },
     "execution_count": 26,
     "metadata": {},
     "output_type": "execute_result"
    }
   ],
   "source": [
    "df.shape"
   ]
  },
  {
   "cell_type": "markdown",
   "id": "a96ed58a",
   "metadata": {},
   "source": [
    "### Q6 What would be the output for?\n",
    "\n",
    "S = [['him', 'sell'], [90, 28, 43]]\n",
    "\n",
    "S[0][1][1]"
   ]
  },
  {
   "cell_type": "code",
   "execution_count": 27,
   "id": "e02b67c3",
   "metadata": {},
   "outputs": [
    {
     "data": {
      "text/plain": [
       "'e'"
      ]
     },
     "execution_count": 27,
     "metadata": {},
     "output_type": "execute_result"
    }
   ],
   "source": [
    "S = [['him', 'sell'], [90, 28, 43]]\n",
    "\n",
    "S[0][1][1]"
   ]
  },
  {
   "cell_type": "markdown",
   "id": "441f1bed",
   "metadata": {},
   "source": [
    "### Q7 Given the following python code, what would the output of the code give?\n",
    "\n",
    "my_tuppy = (1,2,5,8)\n",
    "\n",
    "my_tuppy[2] = 6"
   ]
  },
  {
   "cell_type": "code",
   "execution_count": 28,
   "id": "3594716e",
   "metadata": {},
   "outputs": [
    {
     "ename": "TypeError",
     "evalue": "'tuple' object does not support item assignment",
     "output_type": "error",
     "traceback": [
      "\u001b[1;31m---------------------------------------------------------------------------\u001b[0m",
      "\u001b[1;31mTypeError\u001b[0m                                 Traceback (most recent call last)",
      "\u001b[1;32m<ipython-input-28-ce1543b3be47>\u001b[0m in \u001b[0;36m<module>\u001b[1;34m\u001b[0m\n\u001b[0;32m      1\u001b[0m \u001b[0mmy_tuppy\u001b[0m \u001b[1;33m=\u001b[0m \u001b[1;33m(\u001b[0m\u001b[1;36m1\u001b[0m\u001b[1;33m,\u001b[0m\u001b[1;36m2\u001b[0m\u001b[1;33m,\u001b[0m\u001b[1;36m5\u001b[0m\u001b[1;33m,\u001b[0m\u001b[1;36m8\u001b[0m\u001b[1;33m)\u001b[0m\u001b[1;33m\u001b[0m\u001b[1;33m\u001b[0m\u001b[0m\n\u001b[0;32m      2\u001b[0m \u001b[1;33m\u001b[0m\u001b[0m\n\u001b[1;32m----> 3\u001b[1;33m \u001b[0mmy_tuppy\u001b[0m\u001b[1;33m[\u001b[0m\u001b[1;36m2\u001b[0m\u001b[1;33m]\u001b[0m \u001b[1;33m=\u001b[0m \u001b[1;36m6\u001b[0m\u001b[1;33m\u001b[0m\u001b[1;33m\u001b[0m\u001b[0m\n\u001b[0m",
      "\u001b[1;31mTypeError\u001b[0m: 'tuple' object does not support item assignment"
     ]
    }
   ],
   "source": [
    "my_tuppy = (1,2,5,8)\n",
    "\n",
    "my_tuppy[2] = 6"
   ]
  },
  {
   "cell_type": "code",
   "execution_count": 29,
   "id": "dc3cccad",
   "metadata": {},
   "outputs": [],
   "source": [
    "#The output of the code would be a Type Error.\n",
    "#The reason is that tuples in Python are immutable, meaning you cannot change their elements after creation. \n",
    "#Therefore, attempting to assign a new value to an element of a tuple will result in a TypeError."
   ]
  },
  {
   "cell_type": "markdown",
   "id": "453820c1",
   "metadata": {},
   "source": [
    "### Q8 What is the total number of unique countries in the dataset?"
   ]
  },
  {
   "cell_type": "code",
   "execution_count": 13,
   "id": "2fcf0428",
   "metadata": {},
   "outputs": [
    {
     "name": "stdout",
     "output_type": "stream",
     "text": [
      "Total unique countries in the dataset: 49\n"
     ]
    }
   ],
   "source": [
    "unique_countries = df['Area'].nunique()\n",
    "\n",
    "print(\"Total unique countries in the dataset:\", unique_countries)"
   ]
  },
  {
   "cell_type": "markdown",
   "id": "f29e6cfa",
   "metadata": {},
   "source": [
    "### Q9 Consider the following list of tuples:\n",
    "\n",
    "y = [(2, 4), (7, 8), (1, 5, 9)]\n",
    "\n",
    "How would you assign element 8 from the list to a variable x?"
   ]
  },
  {
   "cell_type": "code",
   "execution_count": 30,
   "id": "593e0637",
   "metadata": {},
   "outputs": [
    {
     "name": "stdout",
     "output_type": "stream",
     "text": [
      "8\n"
     ]
    }
   ],
   "source": [
    "y = [(2, 4), (7, 8), (1, 5, 9)]\n",
    "\n",
    "x = y[1][1]\n",
    "\n",
    "# Print the value of x\n",
    "print(x)\n"
   ]
  },
  {
   "cell_type": "markdown",
   "id": "f0296b56",
   "metadata": {},
   "source": [
    "### Q10 Perform a groupby operation on ‘Element’.  What is the total number of the sum of Processing in 2017?"
   ]
  },
  {
   "cell_type": "code",
   "execution_count": 15,
   "id": "60cf20ef",
   "metadata": {},
   "outputs": [
    {
     "name": "stdout",
     "output_type": "stream",
     "text": [
      "Element\n",
      "Domestic supply quantity                  2088198.10\n",
      "Export Quantity                            182338.80\n",
      "Fat supply quantity (g/capita/day)          10253.84\n",
      "Feed                                       223705.68\n",
      "Food                                      1258888.28\n",
      "Food supply (kcal/capita/day)              454681.00\n",
      "Food supply quantity (kg/capita/yr)         48690.04\n",
      "Import Quantity                            294559.09\n",
      "Losses                                     160614.00\n",
      "Other uses (non-food)                       91645.97\n",
      "Processing                                 292836.00\n",
      "Production                                2030056.89\n",
      "Protein supply quantity (g/capita/day)      11842.45\n",
      "Residuals                                   35500.00\n",
      "Seed                                        24870.14\n",
      "Stock Variation                             54316.91\n",
      "Total Population - Both sexes             1112641.00\n",
      "Tourist consumption                            91.00\n",
      "Name: Y2017, dtype: float64\n"
     ]
    }
   ],
   "source": [
    "grouped_data = df.groupby(\"Element\")[\"Y2017\"].sum()\n",
    "print(grouped_data)"
   ]
  },
  {
   "cell_type": "code",
   "execution_count": 16,
   "id": "d6fbd127",
   "metadata": {},
   "outputs": [
    {
     "name": "stdout",
     "output_type": "stream",
     "text": [
      "Sum of 'Processing' in Y2017: 292836.0\n"
     ]
    }
   ],
   "source": [
    "sum_processing = grouped_data.loc[\"Processing\"]\n",
    "print(\"Sum of 'Processing' in Y2017:\", sum_processing)"
   ]
  },
  {
   "cell_type": "markdown",
   "id": "d52ae0e9",
   "metadata": {},
   "source": [
    "### Q11 What is the total Protein supply quantity in Madagascar in 2015?"
   ]
  },
  {
   "cell_type": "code",
   "execution_count": 31,
   "id": "bbe58549",
   "metadata": {},
   "outputs": [
    {
     "name": "stdout",
     "output_type": "stream",
     "text": [
      "DataFrame for Protein supply quantity in Madagascar in 2015:\n",
      "             Area                                 Element  Y2015\n",
      "30718  Madagascar  Protein supply quantity (g/capita/day)  43.26\n",
      "30721  Madagascar  Protein supply quantity (g/capita/day)  34.04\n",
      "30724  Madagascar  Protein supply quantity (g/capita/day)   9.23\n",
      "30740  Madagascar  Protein supply quantity (g/capita/day)  27.26\n",
      "30756  Madagascar  Protein supply quantity (g/capita/day)   2.14\n",
      "...           ...                                     ...    ...\n",
      "32113  Madagascar  Protein supply quantity (g/capita/day)   0.01\n",
      "32123  Madagascar  Protein supply quantity (g/capita/day)   0.00\n",
      "32133  Madagascar  Protein supply quantity (g/capita/day)   0.02\n",
      "32142  Madagascar  Protein supply quantity (g/capita/day)   0.00\n",
      "32152  Madagascar  Protein supply quantity (g/capita/day)   0.01\n",
      "\n",
      "[111 rows x 3 columns]\n",
      "\n",
      "Total Protein supply quantity in Madagascar in 2015: 173.04999999999998\n"
     ]
    }
   ],
   "source": [
    "madagascar_protein_data = df.loc[(df['Area'] == 'Madagascar') & (df['Element'] == 'Protein supply quantity (g/capita/day)'), ['Area', 'Element', 'Y2015']]\n",
    "\n",
    "print(\"DataFrame for Protein supply quantity in Madagascar in 2015:\")\n",
    "print(madagascar_protein_data)\n",
    "\n",
    "total_protein_supply_2015 = madagascar_protein_data['Y2015'].sum()\n",
    "print(\"\\nTotal Protein supply quantity in Madagascar in 2015:\", total_protein_supply_2015)"
   ]
  },
  {
   "cell_type": "markdown",
   "id": "a2a68ad0",
   "metadata": {},
   "source": [
    "### Q12 What is the total sum of Wine produced in 2015 and 2018 respectively?"
   ]
  },
  {
   "cell_type": "code",
   "execution_count": 32,
   "id": "fa1c7236",
   "metadata": {},
   "outputs": [
    {
     "name": "stdout",
     "output_type": "stream",
     "text": [
      "                          Item   Y2015    Y2018\n",
      "665    Fruits - Excluding Wine  4498.0  4605.00\n",
      "666    Fruits - Excluding Wine   539.0   125.00\n",
      "667    Fruits - Excluding Wine    -3.0     0.00\n",
      "668    Fruits - Excluding Wine    36.0    54.00\n",
      "669    Fruits - Excluding Wine  5004.0  4676.00\n",
      "...                        ...     ...      ...\n",
      "60551                     Wine     4.0     4.00\n",
      "60552                     Wine     0.3     0.31\n",
      "60553                     Wine     1.0     1.00\n",
      "60554                     Wine     0.0     0.00\n",
      "60555                     Wine     0.0     0.00\n",
      "\n",
      "[1088 rows x 3 columns]\n",
      "\n",
      "Total Wine produced in 2015: 287109.0\n",
      "Total Wine produced in 2018: 294420.78\n"
     ]
    }
   ],
   "source": [
    "wine_data = df[df['Item'].str.contains('Wine')]\n",
    "\n",
    "print(wine_data[['Item', 'Y2015', 'Y2018']])\n",
    "\n",
    "wine_2015 = wine_data['Y2015']\n",
    "wine_2018 = wine_data['Y2018']\n",
    "\n",
    "total_wine_2015 = wine_2015.sum()\n",
    "total_wine_2018 = wine_2018.sum()\n",
    "\n",
    "print(\"\\nTotal Wine produced in 2015:\", total_wine_2015)\n",
    "print(\"Total Wine produced in 2018:\", total_wine_2018)"
   ]
  },
  {
   "cell_type": "markdown",
   "id": "12ef986f",
   "metadata": {},
   "source": [
    "### Q13 Select columns ‘Y2017’ and ‘Area’, Perform a groupby operation on ‘Area’.  Which of these Areas had the highest sum in 2017?"
   ]
  },
  {
   "cell_type": "code",
   "execution_count": 33,
   "id": "9c8c2f9a",
   "metadata": {},
   "outputs": [
    {
     "name": "stdout",
     "output_type": "stream",
     "text": [
      "Table of Y2017 sums by area:\n",
      "                                  Y2017\n",
      "Area                                   \n",
      "Algeria                       325644.27\n",
      "Angola                        229159.57\n",
      "Benin                         124771.22\n",
      "Botswana                       22101.30\n",
      "Burkina Faso                  101855.07\n",
      "Cabo Verde                     14650.74\n",
      "Cameroon                      232030.43\n",
      "Central African Republic       29937.00\n",
      "Chad                           71594.68\n",
      "Comoros                           59.84\n",
      "Congo                          41181.68\n",
      "Côte d'Ivoire                 224599.01\n",
      "Djibouti                       22729.91\n",
      "Egypt                         866379.92\n",
      "Eswatini                       54343.33\n",
      "Ethiopia                      448683.76\n",
      "Ethiopia PDR                       0.00\n",
      "Gabon                          27979.64\n",
      "Gambia                         23154.18\n",
      "Ghana                         337599.06\n",
      "Guinea                         98138.87\n",
      "Guinea-Bissau                  19102.77\n",
      "Kenya                         264660.66\n",
      "Lesotho                        21267.96\n",
      "Liberia                        29342.20\n",
      "Madagascar                    131197.73\n",
      "Malawi                        181098.71\n",
      "Mali                          149928.33\n",
      "Mauritania                    156665.46\n",
      "Mauritius                      51114.83\n",
      "Morocco                       388495.36\n",
      "Mozambique                    161407.98\n",
      "Namibia                        29874.89\n",
      "Niger                         126707.58\n",
      "Nigeria                      1483268.23\n",
      "Rwanda                         73663.69\n",
      "Sao Tome and Principe          12662.63\n",
      "Senegal                        95681.15\n",
      "Seychelles                       442.34\n",
      "Sierra Leone                   55311.33\n",
      "South Africa                  517590.54\n",
      "Sudan                         239931.92\n",
      "Sudan (former)                     0.00\n",
      "Togo                           49841.88\n",
      "Tunisia                       124167.20\n",
      "Uganda                        213950.38\n",
      "United Republic of Tanzania   322616.85\n",
      "Zambia                        103223.77\n",
      "Zimbabwe                       75919.34\n",
      "\n",
      "Highest sum value in 2017: 1483268.23\n",
      "Area with the highest sum in 2017: Nigeria\n"
     ]
    }
   ],
   "source": [
    "selected_data = df[['Y2017', 'Area']]\n",
    "grouped_data = selected_data.groupby('Area').sum()\n",
    "area_with_highest_sum = grouped_data['Y2017'].idxmax()\n",
    "highest_sum_value = grouped_data['Y2017'].max()\n",
    "\n",
    "print(\"Table of Y2017 sums by area:\")\n",
    "print(grouped_data)\n",
    "\n",
    "print(\"\\nHighest sum value in 2017:\", highest_sum_value)\n",
    "print(\"Area with the highest sum in 2017:\", area_with_highest_sum)"
   ]
  },
  {
   "cell_type": "code",
   "execution_count": null,
   "id": "4291b2ee",
   "metadata": {},
   "outputs": [],
   "source": []
  }
 ],
 "metadata": {
  "kernelspec": {
   "display_name": "Python 3",
   "language": "python",
   "name": "python3"
  },
  "language_info": {
   "codemirror_mode": {
    "name": "ipython",
    "version": 3
   },
   "file_extension": ".py",
   "mimetype": "text/x-python",
   "name": "python",
   "nbconvert_exporter": "python",
   "pygments_lexer": "ipython3",
   "version": "3.8.8"
  }
 },
 "nbformat": 4,
 "nbformat_minor": 5
}
